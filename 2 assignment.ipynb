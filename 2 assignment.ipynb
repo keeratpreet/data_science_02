{
 "cells": [
  {
   "cell_type": "markdown",
   "id": "460e2917-4f2a-4778-bafc-3ec38ac1f41d",
   "metadata": {},
   "source": [
    "# solution 1"
   ]
  },
  {
   "cell_type": "markdown",
   "id": "f9849ef0-c821-4e5a-ba68-aa8f0ebcacfc",
   "metadata": {},
   "source": [
    "the keyword used to crete a function is def"
   ]
  },
  {
   "cell_type": "code",
   "execution_count": 1,
   "id": "97710aa2-efa0-4407-80de-63d2c07bd4db",
   "metadata": {},
   "outputs": [],
   "source": [
    "def func(a):\n",
    "    return a"
   ]
  },
  {
   "cell_type": "code",
   "execution_count": 2,
   "id": "d9aae22a-94e2-410e-8f96-6e6feb520e97",
   "metadata": {},
   "outputs": [
    {
     "data": {
      "text/plain": [
       "1"
      ]
     },
     "execution_count": 2,
     "metadata": {},
     "output_type": "execute_result"
    }
   ],
   "source": [
    "func(1)"
   ]
  },
  {
   "cell_type": "markdown",
   "id": "67ddd7a8-b2df-4c2b-b269-46013feb478a",
   "metadata": {},
   "source": [
    "function to return a list of odd numbers in the\n",
    "range of 1 to 25."
   ]
  },
  {
   "cell_type": "code",
   "execution_count": 3,
   "id": "67737d3e-d18e-4be1-891a-972d33405005",
   "metadata": {},
   "outputs": [],
   "source": [
    "def odd():\n",
    "    for i in range(1,25):\n",
    "        if i%2==1 :\n",
    "            print(i)"
   ]
  },
  {
   "cell_type": "code",
   "execution_count": 4,
   "id": "84a48a9a-4405-415d-b0fa-4c5f6cf5d033",
   "metadata": {},
   "outputs": [
    {
     "name": "stdout",
     "output_type": "stream",
     "text": [
      "1\n",
      "3\n",
      "5\n",
      "7\n",
      "9\n",
      "11\n",
      "13\n",
      "15\n",
      "17\n",
      "19\n",
      "21\n",
      "23\n"
     ]
    }
   ],
   "source": [
    "odd()"
   ]
  },
  {
   "cell_type": "markdown",
   "id": "7e219b41-b5ad-4bfb-a2cf-56b5cfbdcdcf",
   "metadata": {},
   "source": [
    "\n",
    "# solution 2"
   ]
  },
  {
   "cell_type": "markdown",
   "id": "4b4920d2-b283-4c90-97d5-e7c2b6096054",
   "metadata": {},
   "source": [
    "*args and **kwargs are used in the same function to give us the feature to use both A NORMAL PARAMETER AND ALSO A DICTIONARY AS A PARAMETER \n",
    "\n",
    "it also improves the overall flexibilty "
   ]
  },
  {
   "cell_type": "code",
   "execution_count": 8,
   "id": "c01896a0-829b-4b75-b0b2-f9f6b8ffb8de",
   "metadata": {},
   "outputs": [],
   "source": [
    "def example(*args , **kwargs):\n",
    "    return args , kwargs"
   ]
  },
  {
   "cell_type": "code",
   "execution_count": 11,
   "id": "5d211d39-94f4-4125-abf8-381605e400c7",
   "metadata": {},
   "outputs": [
    {
     "data": {
      "text/plain": [
       "((1, 2, 3, 4), {'a': 12, 'name': 'keerat'})"
      ]
     },
     "execution_count": 11,
     "metadata": {},
     "output_type": "execute_result"
    }
   ],
   "source": [
    "example(1,2,3,4, a=12 , name=\"keerat\")"
   ]
  },
  {
   "cell_type": "markdown",
   "id": "8f0ba7b0-0523-49f2-99ed-c4ed8c4ac8b1",
   "metadata": {},
   "source": [
    "\n",
    "# soluion 3"
   ]
  },
  {
   "cell_type": "markdown",
   "id": "5bb7bb27-fd62-4ad0-aa96-d144b840944d",
   "metadata": {},
   "source": [
    "an iterator is generally a variable that we use to iterate over a dataset "
   ]
  },
  {
   "cell_type": "markdown",
   "id": "0308dd2c-6fdb-4ac4-90e2-28199835416c",
   "metadata": {},
   "source": [
    "print the first five elements of the given list [2, 4, 6, 8, 10, 12, 14, 16,\n",
    "18, 20]."
   ]
  },
  {
   "cell_type": "code",
   "execution_count": 13,
   "id": "3f96892d-666a-4fc4-823f-a8b43c7363ab",
   "metadata": {},
   "outputs": [],
   "source": [
    "l=[2, 4, 6, 8, 10, 12, 14, 16, 18, 20]"
   ]
  },
  {
   "cell_type": "code",
   "execution_count": 19,
   "id": "31d2900b-f744-467f-8b8c-43ec64918447",
   "metadata": {},
   "outputs": [
    {
     "name": "stdout",
     "output_type": "stream",
     "text": [
      "4\n",
      "6\n",
      "8\n",
      "10\n",
      "12\n"
     ]
    }
   ],
   "source": [
    "for i in range(1,6):\n",
    "    print(l[i])"
   ]
  },
  {
   "cell_type": "markdown",
   "id": "0a0c8b4f-93e0-406e-ab85-178f0c6ec19c",
   "metadata": {},
   "source": [
    "here we used the \"for\" method , for the iteration "
   ]
  },
  {
   "cell_type": "markdown",
   "id": "16c9af1d-d9ab-4156-95b4-4bbd81942f64",
   "metadata": {},
   "source": [
    "\n",
    "# solution 4\n"
   ]
  },
  {
   "cell_type": "markdown",
   "id": "45f7808d-4333-4897-9d62-fa593c8b9a9a",
   "metadata": {},
   "source": [
    "+ generator function is a special type of function which generates and displays the outputs step by step rather than storing it all and displaying all at once \n",
    "+ we use the yield keyword to achieve it because it makes it more space efficient and better for infinite sequences\n",
    "+ example of an inbuild gen function is range function "
   ]
  },
  {
   "cell_type": "code",
   "execution_count": 22,
   "id": "9598ce3a-fc2d-4595-93c9-240ac2f25d09",
   "metadata": {},
   "outputs": [
    {
     "name": "stdout",
     "output_type": "stream",
     "text": [
      "1\n",
      "2\n",
      "3\n",
      "4\n",
      "5\n",
      "6\n",
      "7\n",
      "8\n",
      "9\n"
     ]
    }
   ],
   "source": [
    "for i in range(1,10):\n",
    "    print(i)"
   ]
  },
  {
   "cell_type": "markdown",
   "id": "3dadc604-1bce-4a32-881e-2ae4fd470d7a",
   "metadata": {},
   "source": [
    "\n",
    "# solution 5\n",
    "\n"
   ]
  },
  {
   "cell_type": "markdown",
   "id": "9c1850c8-6cb7-4d7f-91a9-bb141609662f",
   "metadata": {},
   "source": [
    "+ generator function for prime number less than 1000"
   ]
  },
  {
   "cell_type": "code",
   "execution_count": 42,
   "id": "8510e6e8-5c07-404f-a9ca-6ca765819987",
   "metadata": {},
   "outputs": [],
   "source": [
    "def is_prime(n):\n",
    "    if n==1 :\n",
    "        return False\n",
    "    \n",
    "    for i in range(2, int(n**0.5) + 1):\n",
    "        if n%i==0 :\n",
    "            return False \n",
    "    return True "
   ]
  },
  {
   "cell_type": "code",
   "execution_count": 43,
   "id": "97fc0eec-7a2e-41b1-aac2-831432021799",
   "metadata": {},
   "outputs": [
    {
     "data": {
      "text/plain": [
       "False"
      ]
     },
     "execution_count": 43,
     "metadata": {},
     "output_type": "execute_result"
    }
   ],
   "source": [
    "is_prime(4)"
   ]
  },
  {
   "cell_type": "code",
   "execution_count": 44,
   "id": "14901ec0-2868-47e7-8c0b-7f48d3c8ab05",
   "metadata": {},
   "outputs": [
    {
     "data": {
      "text/plain": [
       "True"
      ]
     },
     "execution_count": 44,
     "metadata": {},
     "output_type": "execute_result"
    }
   ],
   "source": [
    "is_prime(11)"
   ]
  },
  {
   "cell_type": "code",
   "execution_count": 45,
   "id": "eec6f5fd-7b83-41b7-83ec-b2720a71fd10",
   "metadata": {},
   "outputs": [],
   "source": [
    "\n",
    "def generate_prime(n):\n",
    "    for i in range (1,n+1):\n",
    "        if is_prime(i)==True :\n",
    "            yield i "
   ]
  },
  {
   "cell_type": "code",
   "execution_count": 59,
   "id": "bde9a1d8-1d5a-4d08-ac35-773a1cf586fe",
   "metadata": {},
   "outputs": [
    {
     "name": "stdout",
     "output_type": "stream",
     "text": [
      "2\n",
      "3\n",
      "5\n",
      "7\n",
      "11\n",
      "13\n",
      "17\n",
      "19\n",
      "23\n",
      "29\n",
      "31\n",
      "37\n",
      "41\n",
      "43\n",
      "47\n",
      "53\n",
      "59\n",
      "61\n",
      "67\n",
      "71\n",
      "73\n",
      "79\n",
      "83\n",
      "89\n",
      "97\n",
      "101\n",
      "103\n",
      "107\n",
      "109\n",
      "113\n",
      "127\n",
      "131\n",
      "137\n",
      "139\n",
      "149\n",
      "151\n",
      "157\n",
      "163\n",
      "167\n",
      "173\n",
      "179\n",
      "181\n",
      "191\n",
      "193\n",
      "197\n",
      "199\n",
      "211\n",
      "223\n",
      "227\n",
      "229\n",
      "233\n",
      "239\n",
      "241\n",
      "251\n",
      "257\n",
      "263\n",
      "269\n",
      "271\n",
      "277\n",
      "281\n",
      "283\n",
      "293\n",
      "307\n",
      "311\n",
      "313\n",
      "317\n",
      "331\n",
      "337\n",
      "347\n",
      "349\n",
      "353\n",
      "359\n",
      "367\n",
      "373\n",
      "379\n",
      "383\n",
      "389\n",
      "397\n",
      "401\n",
      "409\n",
      "419\n",
      "421\n",
      "431\n",
      "433\n",
      "439\n",
      "443\n",
      "449\n",
      "457\n",
      "461\n",
      "463\n",
      "467\n",
      "479\n",
      "487\n",
      "491\n",
      "499\n",
      "503\n",
      "509\n",
      "521\n",
      "523\n",
      "541\n",
      "547\n",
      "557\n",
      "563\n",
      "569\n",
      "571\n",
      "577\n",
      "587\n",
      "593\n",
      "599\n",
      "601\n",
      "607\n",
      "613\n",
      "617\n",
      "619\n",
      "631\n",
      "641\n",
      "643\n",
      "647\n",
      "653\n",
      "659\n",
      "661\n",
      "673\n",
      "677\n",
      "683\n",
      "691\n",
      "701\n",
      "709\n",
      "719\n",
      "727\n",
      "733\n",
      "739\n",
      "743\n",
      "751\n",
      "757\n",
      "761\n",
      "769\n",
      "773\n",
      "787\n",
      "797\n",
      "809\n",
      "811\n",
      "821\n",
      "823\n",
      "827\n",
      "829\n",
      "839\n",
      "853\n",
      "857\n",
      "859\n",
      "863\n",
      "877\n",
      "881\n",
      "883\n",
      "887\n",
      "907\n",
      "911\n",
      "919\n",
      "929\n",
      "937\n",
      "941\n",
      "947\n",
      "953\n",
      "967\n",
      "971\n",
      "977\n",
      "983\n",
      "991\n",
      "997\n"
     ]
    }
   ],
   "source": [
    "\n",
    "for i in generate_prime(1000):\n",
    "    printgen.append(i)\n",
    "    print(i)     ##just an example"
   ]
  },
  {
   "cell_type": "code",
   "execution_count": 61,
   "id": "7656bd5a-148d-4537-8693-c535ebd5319c",
   "metadata": {},
   "outputs": [],
   "source": [
    "primegen=generate_prime(1000)"
   ]
  },
  {
   "cell_type": "code",
   "execution_count": 65,
   "id": "bbc624fe-802e-44f5-8efc-5a03e8d02d01",
   "metadata": {},
   "outputs": [
    {
     "name": "stdout",
     "output_type": "stream",
     "text": [
      "179\n",
      "181\n",
      "191\n",
      "193\n",
      "197\n",
      "199\n",
      "211\n",
      "223\n",
      "227\n",
      "229\n",
      "233\n",
      "239\n",
      "241\n",
      "251\n",
      "257\n",
      "263\n",
      "269\n",
      "271\n",
      "277\n",
      "281\n"
     ]
    }
   ],
   "source": [
    "for _ in range(20):\n",
    "    print(next(primegen))"
   ]
  },
  {
   "cell_type": "code",
   "execution_count": null,
   "id": "2d9d12cf-2c45-4545-ba29-f8bd273439f5",
   "metadata": {},
   "outputs": [],
   "source": []
  },
  {
   "cell_type": "code",
   "execution_count": null,
   "id": "e896aa6a-f38b-45df-8a00-b87c884a345f",
   "metadata": {},
   "outputs": [],
   "source": []
  }
 ],
 "metadata": {
  "kernelspec": {
   "display_name": "Python 3 (ipykernel)",
   "language": "python",
   "name": "python3"
  },
  "language_info": {
   "codemirror_mode": {
    "name": "ipython",
    "version": 3
   },
   "file_extension": ".py",
   "mimetype": "text/x-python",
   "name": "python",
   "nbconvert_exporter": "python",
   "pygments_lexer": "ipython3",
   "version": "3.10.8"
  }
 },
 "nbformat": 4,
 "nbformat_minor": 5
}
